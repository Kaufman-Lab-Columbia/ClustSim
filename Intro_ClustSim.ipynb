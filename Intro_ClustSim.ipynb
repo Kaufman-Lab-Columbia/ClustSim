{
 "cells": [
  {
   "cell_type": "markdown",
   "id": "3c3c7b10",
   "metadata": {},
   "source": [
    "# Introduction to ClustSim"
   ]
  },
  {
   "cell_type": "code",
   "execution_count": null,
   "id": "f3e0fcba",
   "metadata": {},
   "outputs": [],
   "source": [
    "import ClustSim\n",
    "from ClustSim import simulate_clusters, plot_clusters"
   ]
  },
  {
   "cell_type": "markdown",
   "id": "e8d718ce",
   "metadata": {},
   "source": [
    "## Simple Simulations"
   ]
  },
  {
   "cell_type": "code",
   "execution_count": null,
   "id": "77f06506",
   "metadata": {},
   "outputs": [],
   "source": [
    "X, labels = simulate_clusters(\n",
    "    num_clusters=10, clustered_pts=50, cluster_size=50\n",
    ")\n",
    "\n",
    "plot_clusters(X, labels)"
   ]
  },
  {
   "cell_type": "code",
   "execution_count": null,
   "id": "bb7809fb",
   "metadata": {},
   "outputs": [],
   "source": [
    "X, labels = simulate_clusters(\n",
    "    num_clusters=25, clustered_pts=50, cluster_size=200,\n",
    "    space=(0, 5000), min_sep=400.0, cluster_shape='micelle'\n",
    ")\n",
    "\n",
    "plot_clusters(X, labels)"
   ]
  },
  {
   "cell_type": "markdown",
   "id": "99add7d5",
   "metadata": {},
   "source": [
    "## Simulating Noise"
   ]
  },
  {
   "cell_type": "code",
   "execution_count": null,
   "id": "ad0475f6",
   "metadata": {},
   "outputs": [],
   "source": [
    "X, labels = simulate_clusters(\n",
    "    num_clusters=25, clustered_pts=50, cluster_size=200,\n",
    "    noise_pts=3000, min_sep=400.0, space=(0, 5000)\n",
    ")\n",
    "\n",
    "plot_clusters(X, labels)"
   ]
  },
  {
   "cell_type": "code",
   "execution_count": null,
   "id": "d8253604",
   "metadata": {},
   "outputs": [],
   "source": [
    "X, labels = simulate_clusters(\n",
    "    num_clusters=25, clustered_pts=50, cluster_size=200, \n",
    "    noise_pts=3000, min_sep=400.0, space=(0, 5000),\n",
    "    gradient=True\n",
    ")\n",
    "\n",
    "plot_clusters(X, labels)"
   ]
  },
  {
   "cell_type": "markdown",
   "id": "b5a04def",
   "metadata": {},
   "source": [
    "## Variable Aspect Ratio"
   ]
  },
  {
   "cell_type": "code",
   "execution_count": null,
   "id": "dfd434f8",
   "metadata": {},
   "outputs": [],
   "source": [
    "X, labels = simulate_clusters(\n",
    "    num_clusters=15, clustered_pts=100, cluster_size=200,\n",
    "    min_sep=800.0, noise_pts=3000, space=(0, 5000),\n",
    "    cluster_shape='ellipse', aspect_ratio=4.0, fix_AR=True\n",
    ")\n",
    "\n",
    "plot_clusters(X, labels)"
   ]
  },
  {
   "cell_type": "code",
   "execution_count": null,
   "id": "7ccb49a3",
   "metadata": {},
   "outputs": [],
   "source": [
    "X, labels = simulate_clusters(\n",
    "    num_clusters=15, clustered_pts=100, cluster_size=200,\n",
    "    min_sep=800.0, noise_pts=3000, space=(0, 5000),\n",
    "    cluster_shape='micelle', aspect_ratio=4.0, fix_AR=False\n",
    ")\n",
    "\n",
    "plot_clusters(X, labels)"
   ]
  },
  {
   "cell_type": "markdown",
   "id": "3e7ae811",
   "metadata": {},
   "source": [
    "## Fibrillar Clusters"
   ]
  },
  {
   "cell_type": "code",
   "execution_count": null,
   "id": "bc6dee6c",
   "metadata": {},
   "outputs": [],
   "source": [
    "X, labels = simulate_clusters(\n",
    "    num_clusters=10, clustered_pts=500, cluster_size=200,\n",
    "    noise_pts=1500, space=(0, 10000), cluster_shape='fiber',\n",
    "    length=2000, D=0.01\n",
    ")\n",
    "\n",
    "plot_clusters(X, labels)"
   ]
  },
  {
   "cell_type": "markdown",
   "id": "e4067af8",
   "metadata": {},
   "source": [
    "## Adjusting emitter uncertainty"
   ]
  },
  {
   "cell_type": "code",
   "execution_count": null,
   "id": "31a83d3e",
   "metadata": {},
   "outputs": [],
   "source": [
    "X, labels = simulate_clusters(\n",
    "    num_clusters=20, clustered_pts=25, cluster_size=200,\n",
    "    min_sep=400.0, noise_pts=1500, space=(0, 3000),\n",
    "    precision_params=(3.0, 0.28)\n",
    ")\n",
    "\n",
    "plot_clusters(X, labels)"
   ]
  },
  {
   "cell_type": "code",
   "execution_count": null,
   "id": "67a30aa2",
   "metadata": {},
   "outputs": [],
   "source": [
    "X, labels = simulate_clusters(\n",
    "    num_clusters=20, clustered_pts=50, cluster_size=200,\n",
    "    min_sep = 400.0, noise_pts=1500, space=(0, 3000),\n",
    "    cluster_shape='sphere', precision_params=(3.0, 0.28, 4.0, 0.28)\n",
    ")\n",
    "plot_clusters(X, labels)"
   ]
  },
  {
   "cell_type": "markdown",
   "id": "382de128",
   "metadata": {},
   "source": [
    "## Simulating multi-emitters"
   ]
  },
  {
   "cell_type": "code",
   "execution_count": null,
   "id": "4d364ce8",
   "metadata": {},
   "outputs": [],
   "source": [
    "X, labels = simulate_clusters(\n",
    "    num_clusters=20, clustered_pts=25, cluster_size=200,\n",
    "    min_sep=400.0, noise_pts=1500, space=(0, 3000),\n",
    "    gradient=True, precision_params=(3.0, 0.28), multi_emitter=3.0\n",
    ")\n",
    "\n",
    "plot_clusters(X, labels)"
   ]
  }
 ],
 "metadata": {
  "kernelspec": {
   "display_name": "Python 3 (ipykernel)",
   "language": "python",
   "name": "python3"
  },
  "language_info": {
   "codemirror_mode": {
    "name": "ipython",
    "version": 3
   },
   "file_extension": ".py",
   "mimetype": "text/x-python",
   "name": "python",
   "nbconvert_exporter": "python",
   "pygments_lexer": "ipython3",
   "version": "3.9.16"
  }
 },
 "nbformat": 4,
 "nbformat_minor": 5
}
